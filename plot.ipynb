{
 "cells": [
  {
   "cell_type": "markdown",
   "metadata": {},
   "source": [
    "# Contributor\n",
    "- 64021317 Pattarapong Honghin\n",
    "- 64023814 Suphakit Pinyoworapot"
   ]
  },
  {
   "cell_type": "markdown",
   "metadata": {},
   "source": [
    "## About\n",
    "  - This dataset is `Amazon Review Data` using for `watch review comments & stars on each product in 'Digital Music' category` which is obtained from [Amazon Review Data (2018) by Jianmo Ni, UCSD](https://cseweb.ucsd.edu/~jmcauley/datasets/amazon_v2/).\n",
    "  - The amount of sample is \"\".\n",
    "  - The amount of class is \"\"."
   ]
  },
  {
   "cell_type": "markdown",
   "metadata": {},
   "source": [
    "## Setting up"
   ]
  },
  {
   "cell_type": "markdown",
   "metadata": {},
   "source": [
    "### Install Library"
   ]
  },
  {
   "cell_type": "code",
   "execution_count": null,
   "metadata": {},
   "outputs": [],
   "source": [
    "!pip install scikit-learn pandas matplotlib"
   ]
  },
  {
   "cell_type": "code",
   "execution_count": 10,
   "metadata": {},
   "outputs": [],
   "source": [
    "from matplotlib import pyplot as plt\n",
    "import numpy as np\n",
    "import pandas"
   ]
  },
  {
   "cell_type": "code",
   "execution_count": 11,
   "metadata": {},
   "outputs": [],
   "source": [
    "columns = [\n",
    "    \"species\",\n",
    "    \"island\",\n",
    "    \"culmen_length_mm\",\n",
    "    \"culmen_depth_mm\",\n",
    "    \"flipper_length_mm\",\n",
    "    \"body_mass_g\",\n",
    "    \"sex\",\n",
    "]\n",
    "\n",
    "penguin = pandas.read_csv(\"source/size.csv\", header=None, names=columns)\n",
    "\n",
    "X = penguin[\n",
    "    [\n",
    "        \"island\",\n",
    "        \"culmen_length_mm\",\n",
    "        \"culmen_depth_mm\",\n",
    "        \"flipper_length_mm\",\n",
    "        \"body_mass_g\",\n",
    "        \"sex\",\n",
    "    ]\n",
    "]\n",
    "Y = penguin[\"species\"]"
   ]
  },
  {
   "cell_type": "markdown",
   "metadata": {},
   "source": [
    "## Assignment Works"
   ]
  },
  {
   "cell_type": "markdown",
   "metadata": {},
   "source": [
    "1. Plot relation for each feature in subplot (maximum 8 subplots)"
   ]
  },
  {
   "cell_type": "code",
   "execution_count": null,
   "metadata": {},
   "outputs": [],
   "source": [
    "penguin_specs = penguin[\"species\"].unique()\n",
    "feature_name = [\n",
    "    \"culmen_length_mm\",\n",
    "    \"culmen_depth_mm\",\n",
    "    \"flipper_length_mm\",\n",
    "    \"body_mass_g\",\n",
    "]\n",
    "\n",
    "colors = [[1, 0, 1], [0, 1, 0], [0, 0, 1]]\n",
    "\n",
    "for j in range(len(feature_name)):\n",
    "    plt.figure(figsize=(10, 6))\n",
    "    for i, species in enumerate(penguin_specs):\n",
    "        species_data = penguin[penguin[\"species\"] == species]\n",
    "        plt.plot(\n",
    "            species_data.index,\n",
    "            species_data[feature_name[j]],\n",
    "            marker=\"o\",\n",
    "            linestyle=\"\",\n",
    "            color=colors[i],\n",
    "            label=species,\n",
    "        )\n",
    "        plt.title(feature_name[j])"
   ]
  },
  {
   "cell_type": "markdown",
   "metadata": {},
   "source": [
    "2. Plot relation of feature 1 and feature 2 in subplot (maximum 8 subplots)"
   ]
  },
  {
   "cell_type": "code",
   "execution_count": null,
   "metadata": {},
   "outputs": [],
   "source": []
  }
 ],
 "metadata": {
  "kernelspec": {
   "display_name": "Python 3",
   "language": "python",
   "name": "python3"
  },
  "language_info": {
   "codemirror_mode": {
    "name": "ipython",
    "version": 3
   },
   "file_extension": ".py",
   "mimetype": "text/x-python",
   "name": "python",
   "nbconvert_exporter": "python",
   "pygments_lexer": "ipython3",
   "version": "3.11.4"
  }
 },
 "nbformat": 4,
 "nbformat_minor": 2
}
